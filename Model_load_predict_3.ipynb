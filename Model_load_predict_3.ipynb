{
 "cells": [
  {
   "cell_type": "code",
   "execution_count": 1,
   "metadata": {},
   "outputs": [],
   "source": [
    "#/usr/bin/env python\n",
    "#coding=utf-8\n",
    "import torch\n",
    "import torch.nn as nn\n",
    "import torch.nn.functional as F\n",
    "import torchvision\n",
    "from sklearn import metrics\n",
    "from mlxtend.plotting import plot_confusion_matrix\n",
    "from matplotlib import pyplot as plt\n",
    "from PIL import Image\n",
    "import cv2\n",
    "from importlib import reload\n",
    "import Face_alignment_pak as face\n",
    "from importlib import reload\n",
    "import cv2"
   ]
  },
  {
   "cell_type": "code",
   "execution_count": 2,
   "metadata": {},
   "outputs": [
    {
     "name": "stdout",
     "output_type": "stream",
     "text": [
      "cuda:0\n"
     ]
    }
   ],
   "source": [
    "# import torchsummary\n",
    "#epoch 100, lr, 0.1 and uopdate, batch 256\n",
    "\n",
    "num_classes  = 9\n",
    "batchsize = 1\n",
    "device = torch.device(\"cuda:0\" if torch.cuda.is_available() else \"cpu\")\n",
    "print(device)"
   ]
  },
  {
   "cell_type": "code",
   "execution_count": 3,
   "metadata": {},
   "outputs": [],
   "source": [
    "class newresnet(torch.nn.Module):\n",
    "    def __init__(self):\n",
    "        super(newresnet, self).__init__()\n",
    "\n",
    "        self.newresnet18  = torchvision.models.resnet18(pretrained = True)\n",
    "        # for param in self.newresnet18.parameters():\n",
    "        #     param.requires_grad = False\n",
    "        # here in_feature is 512*block.expansion\n",
    "        num_ftrs = self.newresnet18.fc.in_features \n",
    "\n",
    "        # remove the last fc layer\n",
    "        # myresnet = torch.nn.Sequential(*list(myresnet.children())[:-1])\n",
    "        self.newresnet18.fc = torch.nn.Identity()\n",
    "        self.fc = torch.nn.Linear(num_ftrs, num_classes)\n",
    "    def forward(self,x):\n",
    "        x = self.newresnet18(x)\n",
    "        # x = torch.flatten(x,1)\n",
    "        x = self.fc(x)\n",
    "        return x"
   ]
  },
  {
   "cell_type": "code",
   "execution_count": 11,
   "metadata": {},
   "outputs": [],
   "source": [
    "# predict\n",
    "def predict(model, loader):\n",
    "    model.to(device)\n",
    "    #model.eval()\n",
    "    with torch.no_grad():\n",
    "        correct = 0\n",
    "        total = 0\n",
    "        all_predicted = []\n",
    "        labels_total = []\n",
    "        for images, labels in loader:\n",
    "            images = images.to(device)\n",
    "            labels = labels.to(device)\n",
    "            outputs = model.forward(images)\n",
    "            _, predicted = torch.max(outputs.data, 1)# _ are max values, predicts are their indexs\n",
    "            total += labels.size(0)\n",
    "            correct += (predicted == labels).sum().item()\n",
    "            all_predicted += predicted.cpu().numpy().tolist()\n",
    "            labels_total += labels.cpu().numpy().tolist()\n",
    "            \n",
    "            \n",
    "#             if predicted == labels and int(labels)==1:\n",
    "#                 print(images.to('cpu'))\n",
    "#                 print(outputs)\n",
    "#                 print(_, predicted)\n",
    "#                 plt.imshow(images.to('cpu').squeeze().permute(1,2,0))\n",
    "#                 print(labels)\n",
    "#                 break\n",
    "            \n",
    "           \n",
    "        print(\"Accuracy: {}%\" .format(100* correct/total))\n",
    "    #model.train()\n",
    "    return all_predicted, labels_total"
   ]
  },
  {
   "cell_type": "code",
   "execution_count": 77,
   "metadata": {},
   "outputs": [],
   "source": [
    "#source : https://stackoverflow.com/questions/54607447/opencv-how-to-overlay-text-on-videos\n",
    "def draw_label(img, text, pos, bg_color):\n",
    "    font_face = cv2.FONT_HERSHEY_SIMPLEX\n",
    "    scale = 4\n",
    "    color = (255, 255, 0)\n",
    "    thickness = cv2.FILLED\n",
    "    thickness = 10\n",
    "    margin = 20\n",
    "\n",
    "    txt_size = cv2.getTextSize(text, font_face, scale, thickness)\n",
    "\n",
    "    end_x = pos[0] + txt_size[0][0] + margin\n",
    "    end_y = pos[1] - txt_size[0][1] - margin\n",
    "\n",
    "    #cv2.rectangle(img, pos, (end_x, end_y), bg_color, thickness)\n",
    "    cv2.putText(img, text, pos, font_face, scale, color, 10, cv2.LINE_AA)"
   ]
  },
  {
   "cell_type": "code",
   "execution_count": 13,
   "metadata": {},
   "outputs": [
    {
     "data": {
      "text/plain": [
       "<All keys matched successfully>"
      ]
     },
     "execution_count": 13,
     "metadata": {},
     "output_type": "execute_result"
    }
   ],
   "source": [
    "# for loading\n",
    "myresnet = newresnet()# (use the class to initialize the model)\n",
    "myresnet.to(device)\n",
    "myresnet.eval()\n",
    "fname = \"C:/Users/ZXY/Desktop/ASU/ProgramCourses/2020spring/EEE511/HW/Final/myresnet3.pt\"\n",
    "myresnet.load_state_dict(torch.load(fname))"
   ]
  },
  {
   "cell_type": "code",
   "execution_count": 14,
   "metadata": {},
   "outputs": [],
   "source": [
    "idx_sentiment = {0: 'angry', 1:'disgust', 2:'fear', 3:'happy', 4:'neutral', 5:'sad', 6:'surprise'}"
   ]
  },
  {
   "cell_type": "code",
   "execution_count": 15,
   "metadata": {},
   "outputs": [],
   "source": [
    "#required size Resnet 224, 224\n",
    "#              Inception v3 N x 3 x 299 x 299\n",
    "resize  = torchvision.transforms.Resize((224, 224))\n",
    "normalize = torchvision.transforms.Normalize(mean=[0.485, 0.456, 0.406],\n",
    "                                             std=[0.229, 0.224, 0.225])## need mean and std\n",
    "preprocessor = torchvision.transforms.Compose([ \n",
    "\n",
    "                                               resize,\n",
    "                                               torchvision.transforms.ToTensor(), \n",
    "                                               normalize,\n",
    "                                               ])\n",
    "preprocessor2 = torchvision.transforms.Compose([ \n",
    "\n",
    "                                               resize,\n",
    "                                               torchvision.transforms.ToTensor(), \n",
    "                                               ])\n",
    "#                                               torchvision.transforms.RandomRotation(20),\n",
    "#                                              torchvision.transforms.RandomHorizontalFlip(),\n",
    "#preprocessor = torchvision.transforms.Compose([resize, torchvision.transforms.ToTensor()])\n",
    "\n",
    "#load train data\n",
    "#data_dir = '../../data/'\n",
    "#data_dir = '/System/Volumes/Data/data/'\n",
    "#root/dog/xxx.png\n",
    "# root/cat/123.png"
   ]
  },
  {
   "cell_type": "code",
   "execution_count": 16,
   "metadata": {},
   "outputs": [
    {
     "name": "stdout",
     "output_type": "stream",
     "text": [
      "test_dataset size: 74\n",
      "test_loader size: 74\n"
     ]
    }
   ],
   "source": [
    "path = r'C:\\Users\\ZXY\\Desktop\\ASU\\ProgramCourses\\2020spring\\EEE511\\HW\\Final\\dataset1'\n",
    "\n",
    "#load test data\n",
    "data_dir_test = path + r'\\test'\n",
    "test_dataset = torchvision.datasets.ImageFolder(root = data_dir_test,\n",
    "                                               transform = preprocessor)\n",
    "print('test_dataset size:', len(test_dataset))\n",
    "\n",
    "test_loader = torch.utils.data.DataLoader(dataset = test_dataset,\n",
    "                                          batch_size = batchsize,\n",
    "                                          shuffle = False)\n",
    "print('test_loader size:', len(test_loader))"
   ]
  },
  {
   "cell_type": "code",
   "execution_count": 17,
   "metadata": {
    "scrolled": true
   },
   "outputs": [
    {
     "name": "stdout",
     "output_type": "stream",
     "text": [
      "Accuracy: 20.27027027027027%\n"
     ]
    },
    {
     "data": {
      "image/png": "[encoded data removed]",
      "text/plain": [
       "<Figure size 432x288 with 2 Axes>"
      ]
     },
     "metadata": {
      "needs_background": "light"
     },
     "output_type": "display_data"
    }
   ],
   "source": [
    "\n",
    "test_predicts, test_labels = predict(myresnet, test_loader)\n",
    "cm = metrics.confusion_matrix(test_labels, test_predicts)\n",
    "\n",
    "fig,ax = plot_confusion_matrix(cm, colorbar = True, show_normed = True)\n",
    "plt.show()"
   ]
  },
  {
   "cell_type": "code",
   "execution_count": 25,
   "metadata": {},
   "outputs": [
    {
     "name": "stdout",
     "output_type": "stream",
     "text": [
      "test_dataset2 size: 1\n",
      "test_loader2 size: 1\n"
     ]
    }
   ],
   "source": [
    "path2 = r'C:\\Users\\ZXY\\Desktop\\ASU\\ProgramCourses\\2020spring\\EEE511\\HW\\Final\\dataset_test_2'\n",
    "\n",
    "\n",
    "#load test data\n",
    "data_dir_test2 = path2 + r'\\test'\n",
    "test_dataset2 = torchvision.datasets.ImageFolder(root = data_dir_test2,\n",
    "                                               transform = preprocessor)\n",
    "print('test_dataset2 size:', len(test_dataset2))\n",
    "\n",
    "test_loader2 = torch.utils.data.DataLoader(dataset = test_dataset2,\n",
    "                                          batch_size = 1,\n",
    "                                          shuffle = False)\n",
    "print('test_loader2 size:', len(test_loader2))\n"
   ]
  },
  {
   "cell_type": "code",
   "execution_count": 26,
   "metadata": {},
   "outputs": [
    {
     "name": "stdout",
     "output_type": "stream",
     "text": [
      "torch.Size([1, 3, 224, 224])\n"
     ]
    }
   ],
   "source": [
    "for images, labels in test_loader2:\n",
    "    test_img = images\n",
    "    test_label = labels\n",
    "    break\n",
    "print(test_img.shape)"
   ]
  },
  {
   "cell_type": "code",
   "execution_count": 32,
   "metadata": {},
   "outputs": [
    {
     "name": "stdout",
     "output_type": "stream",
     "text": [
      "4 neutral\n"
     ]
    },
    {
     "name": "stderr",
     "output_type": "stream",
     "text": [
      "Clipping input data to the valid range for imshow with RGB data ([0..1] for floats or [0..255] for integers).\n"
     ]
    },
    {
     "data": {
      "text/plain": [
       "<matplotlib.image.AxesImage at 0x22638d47248>"
      ]
     },
     "execution_count": 32,
     "metadata": {},
     "output_type": "execute_result"
    },
    {
     "data": {
      "image/png": "[encoded data removed]",
      "text/plain": [
       "<Figure size 432x288 with 1 Axes>"
      ]
     },
     "metadata": {
      "needs_background": "light"
     },
     "output_type": "display_data"
    }
   ],
   "source": [
    "myresnet.eval()\n",
    "predict_outputs = myresnet.forward(test_img.to(device))\n",
    "_, predicted = torch.max(predict_outputs.data, 1)# _ are max values, predicts are their indexs\n",
    "\n",
    "sentiment = idx_sentiment[int(predicted[0])]\n",
    "print(int(predicted[0]), sentiment)\n",
    "plt.imshow(test_img.squeeze().permute(1,2,0))\n"
   ]
  },
  {
   "cell_type": "code",
   "execution_count": 37,
   "metadata": {},
   "outputs": [
    {
     "data": {
      "text/plain": [
       "torch.Size([1, 3, 224, 224])"
      ]
     },
     "execution_count": 37,
     "metadata": {},
     "output_type": "execute_result"
    }
   ],
   "source": [
    "test_img.shape"
   ]
  },
  {
   "cell_type": "code",
   "execution_count": 45,
   "metadata": {
    "scrolled": true
   },
   "outputs": [
    {
     "name": "stdout",
     "output_type": "stream",
     "text": [
      "torch.Size([1800, 1800, 3])\n",
      "torch.Size([3, 224, 224])\n"
     ]
    },
    {
     "name": "stderr",
     "output_type": "stream",
     "text": [
      "Clipping input data to the valid range for imshow with RGB data ([0..1] for floats or [0..255] for integers).\n"
     ]
    },
    {
     "name": "stdout",
     "output_type": "stream",
     "text": [
      "2 fear\n"
     ]
    },
    {
     "data": {
      "image/png": "[encoded data removed]",
      "text/plain": [
       "<Figure size 432x288 with 1 Axes>"
      ]
     },
     "metadata": {
      "needs_background": "light"
     },
     "output_type": "display_data"
    }
   ],
   "source": [
    "\n",
    "myresnet.eval()\n",
    "reload(face)\n",
    "path = \"C:\\\\Users\\\\ZXY\\\\Desktop\\\\ASU\\\\ProgramCourses\\\\2020spring\\\\EEE511\\\\HW\\\\Final\\\\video_frame_test\\\\test600.jpg\"\n",
    "img = cv2.imread(path)\n",
    "img = cv2.cvtColor(img, cv2.COLOR_BGR2RGB)# pay attention here, effect predication\n",
    "#new_img = face.face_alig(img)\n",
    "#img = img[:,:,::-1]\n",
    "Face_frame = torch.from_numpy(img).float()\n",
    "\n",
    "print(Face_frame.shape)\n",
    "Face_frame = preprocessor(Image.fromarray(img))\n",
    "print(Face_frame.shape)\n",
    "plt.imshow(Face_frame.squeeze().permute(1,2,0))\n",
    "predict_outputs = myresnet.forward(Face_frame.unsqueeze(0).to(device))\n",
    "_, predicted = torch.max(predict_outputs.data, 1)# _ are max values, predicts are their indexs\n",
    "\n",
    "sentiment = idx_sentiment[int(predicted[0])]\n",
    "print(int(predicted[0]), sentiment)\n"
   ]
  },
  {
   "cell_type": "code",
   "execution_count": 35,
   "metadata": {},
   "outputs": [
    {
     "data": {
      "text/plain": [
       "tensor([[ 3.2817, -1.3326,  2.1629, -1.0124,  0.5379,  0.3618,  4.6628, -3.6328,\n",
       "         -5.1844]], device='cuda:0', grad_fn=<AddmmBackward>)"
      ]
     },
     "execution_count": 35,
     "metadata": {},
     "output_type": "execute_result"
    }
   ],
   "source": [
    "predict_outputs"
   ]
  },
  {
   "cell_type": "code",
   "execution_count": 81,
   "metadata": {},
   "outputs": [
    {
     "name": "stdout",
     "output_type": "stream",
     "text": [
      "0 fear\n",
      "30 fear\n",
      "60 fear\n",
      "90 fear\n",
      "120 fear\n",
      "150 fear\n",
      "180 disgust\n",
      "210 surprise\n",
      "240 surprise\n",
      "270 surprise\n",
      "300 neutral\n",
      "330 neutral\n",
      "360 sad\n",
      "390 sad\n",
      "420 sad\n",
      "450 sad\n",
      "480 surprise\n",
      "510 fear\n",
      "540 angry\n",
      "570 angry\n",
      "600 fear\n",
      "630 fear\n",
      "660 angry\n",
      "690 angry\n",
      "720 angry\n",
      "750 angry\n",
      "780 angry\n",
      "810 happy\n",
      "840 happy\n",
      "870 happy\n",
      "900 happy\n",
      "930 happy\n",
      "960 surprise\n",
      "990 surprise\n",
      "1020 surprise\n",
      "1050 surprise\n",
      "1080 surprise\n",
      "1110 surprise\n",
      "1140 surprise\n",
      "1170 surprise\n",
      "1200 surprise\n",
      "1230 surprise\n",
      "1260 surprise\n",
      "1290 angry\n",
      "1320 fear\n",
      "1350 fear\n",
      "1380 fear\n",
      "1410 fear\n",
      "1440 fear\n",
      "1470 fear\n",
      "1500 fear\n"
     ]
    }
   ],
   "source": [
    "import cv2\n",
    "from importlib import reload\n",
    "reload(face)\n",
    "# Opens the Video file\n",
    "video_path = \"C:\\\\Users\\\\ZXY\\\\Desktop\\\\ASU\\\\ProgramCourses\\\\2020spring\\\\EEE511\\\\HW\\\\Final\\\\test\\\\test3.avi\"\n",
    "capture= cv2.VideoCapture(video_path)\n",
    "\n",
    "# Define the codec and create VideoWriter object\n",
    "frame_width = int(capture.get(3))\n",
    "frame_height = int(capture.get(4))\n",
    "fourcc = cv2.VideoWriter_fourcc(*'XVID')\n",
    "out = cv2.VideoWriter('output.mp4',fourcc, 60.0, (frame_width,frame_height))\n",
    "\n",
    "i=0\n",
    "sentiment = []\n",
    "while(capture.isOpened()):\n",
    "    ret, frame = capture.read()\n",
    "    if ret == False:\n",
    "        break\n",
    "    frame = cv2.cvtColor(frame, cv2.COLOR_BGR2RGB)\n",
    "    \n",
    "    if i == 0 or i%30 == 0:\n",
    "        \n",
    "        #Face_frame = face.face_alig(frame)\n",
    "        Face_frame = torch.from_numpy(frame).float()\n",
    "\n",
    "        Face_frame = preprocessor(Image.fromarray(frame))\n",
    "        \n",
    "        myresnet.eval()\n",
    "        predict_outputs = myresnet.forward(Face_frame.unsqueeze(0).to(device))\n",
    "        _, predicted = torch.max(predict_outputs.data, 1)# _ are max values, predicts are their indexs\n",
    "    \n",
    "        sentiment = idx_sentiment[int(predicted[0])]\n",
    "        print(i, sentiment)\n",
    "\n",
    "    # draw the label into the frame\n",
    "    draw_label(frame, sentiment, (40,240), (0,255,255))\n",
    "    \n",
    "    i+=1\n",
    "    if i > 300 and i<1200:\n",
    "        frame = cv2.cvtColor(frame, cv2.COLOR_RGB2BGR)\n",
    "        out.write(frame)\n",
    "\n",
    "    \n",
    "    if i==10000:\n",
    "        print(i)\n",
    "        break\n",
    "\n",
    "capture.release()\n",
    "out.release()\n",
    "\n",
    "cv2.destroyAllWindows()\n"
   ]
  }
 ],
 "metadata": {
  "kernelspec": {
   "display_name": "Python 3",
   "language": "python",
   "name": "python3"
  },
  "language_info": {
   "codemirror_mode": {
    "name": "ipython",
    "version": 3
   },
   "file_extension": ".py",
   "mimetype": "text/x-python",
   "name": "python",
   "nbconvert_exporter": "python",
   "pygments_lexer": "ipython3",
   "version": "3.7.4"
  }
 },
 "nbformat": 4,
 "nbformat_minor": 2
}
